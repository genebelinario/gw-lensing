{
 "cells": [
  {
   "cell_type": "code",
   "execution_count": 2,
   "id": "c11ff1c6-423e-42c1-b30a-e0a60e59f04f",
   "metadata": {
    "execution": {
     "iopub.execute_input": "2022-11-09T16:40:10.955344Z",
     "iopub.status.busy": "2022-11-09T16:40:10.955038Z",
     "iopub.status.idle": "2022-11-09T16:40:10.963446Z",
     "shell.execute_reply": "2022-11-09T16:40:10.962745Z",
     "shell.execute_reply.started": "2022-11-09T16:40:10.955319Z"
    },
    "tags": []
   },
   "outputs": [
    {
     "name": "stdout",
     "output_type": "stream",
     "text": [
      "time: 248 µs (started: 2022-11-10 00:40:10 +08:00)\n"
     ]
    }
   ],
   "source": [
    "try:\n",
    "    %load_ext autotime\n",
    "except:\n",
    "    !pip install ipython-autotime\n",
    "    %load_ext autotime"
   ]
  },
  {
   "cell_type": "code",
   "execution_count": 3,
   "id": "0e35d53f-653e-4521-8b30-9772bf744f77",
   "metadata": {
    "execution": {
     "iopub.execute_input": "2022-11-09T16:40:11.294008Z",
     "iopub.status.busy": "2022-11-09T16:40:11.293624Z",
     "iopub.status.idle": "2022-11-09T16:40:11.441028Z",
     "shell.execute_reply": "2022-11-09T16:40:11.440002Z",
     "shell.execute_reply.started": "2022-11-09T16:40:11.293973Z"
    },
    "tags": []
   },
   "outputs": [
    {
     "name": "stdout",
     "output_type": "stream",
     "text": [
      "Python 3.9.13\n",
      "time: 142 ms (started: 2022-11-10 00:40:11 +08:00)\n"
     ]
    }
   ],
   "source": [
    "# check python version\n",
    "# lensinggw package requires python 3.8+\n",
    "\n",
    "! python --version"
   ]
  },
  {
   "cell_type": "code",
   "execution_count": 4,
   "id": "3fec078c-515d-4162-8d39-8296770519f6",
   "metadata": {
    "execution": {
     "iopub.execute_input": "2022-11-09T16:40:11.598104Z",
     "iopub.status.busy": "2022-11-09T16:40:11.597725Z",
     "iopub.status.idle": "2022-11-09T16:40:12.184488Z",
     "shell.execute_reply": "2022-11-09T16:40:12.184204Z",
     "shell.execute_reply.started": "2022-11-09T16:40:11.598077Z"
    },
    "tags": []
   },
   "outputs": [
    {
     "name": "stdout",
     "output_type": "stream",
     "text": [
      "time: 584 ms (started: 2022-11-10 00:40:11 +08:00)\n"
     ]
    }
   ],
   "source": [
    "# import libraries and packages\n",
    "\n",
    "import random\n",
    "import matplotlib.pyplot as plt\n",
    "import numpy as np\n",
    "import configparser\n",
    "import pandas as pd"
   ]
  },
  {
   "cell_type": "code",
   "execution_count": 5,
   "id": "d9a47b93-609f-464e-bdb2-e09ae1b08b80",
   "metadata": {
    "execution": {
     "iopub.execute_input": "2022-11-09T16:40:13.257356Z",
     "iopub.status.busy": "2022-11-09T16:40:13.257038Z",
     "iopub.status.idle": "2022-11-09T16:40:13.398301Z",
     "shell.execute_reply": "2022-11-09T16:40:13.397433Z",
     "shell.execute_reply.started": "2022-11-09T16:40:13.257320Z"
    },
    "tags": []
   },
   "outputs": [
    {
     "name": "stdout",
     "output_type": "stream",
     "text": [
      "/Users/genebelinario/Documents/dnc_research/thesis/notebooks\n",
      "\u001b[34mLOSC_Event_tutorial-master\u001b[m\u001b[m \u001b[34mlenstronomy\u001b[m\u001b[m\n",
      "lensed_gw.ipynb            near_source.ipynb\n",
      "\u001b[34mlensinggw\u001b[m\u001b[m                  source-img_plot.ipynb\n",
      "lensinggw_setup.ipynb\n",
      "time: 135 ms (started: 2022-11-10 00:40:13 +08:00)\n"
     ]
    }
   ],
   "source": [
    "%cd /Users/genebelinario/Documents/dnc_research/thesis/notebooks\n",
    "!ls"
   ]
  },
  {
   "cell_type": "code",
   "execution_count": 7,
   "id": "771096c8-f5ef-4a5e-847b-6f74809d63f2",
   "metadata": {
    "execution": {
     "iopub.execute_input": "2022-11-09T16:40:30.148601Z",
     "iopub.status.busy": "2022-11-09T16:40:30.148007Z",
     "iopub.status.idle": "2022-11-09T16:40:30.410604Z",
     "shell.execute_reply": "2022-11-09T16:40:30.410378Z",
     "shell.execute_reply.started": "2022-11-09T16:40:30.148570Z"
    },
    "tags": []
   },
   "outputs": [
    {
     "name": "stdout",
     "output_type": "stream",
     "text": [
      "\n",
      "---- Will perform only the macromodel analysis ----\n",
      "\n",
      "---- Solver settings ----\n",
      "\n",
      "The macromodel analysis will be performed with the following settings:\n",
      "\n",
      "OnlyMacro                       --> True\n",
      "Scaled                          --> False\n",
      "SearchWindowMacro               --> 3.9235258041177455e-10\n",
      "PixelsMacro                     --> 1000\n",
      "OverlapDistMacro                --> 1e-15\n",
      "NearSource                      --> False\n",
      "Optimization                    --> True\n",
      "Verbose                         --> False\n",
      "OptimizationWindowMacro         --> 2\n",
      "OptimizationPixelsMacro         --> 30\n",
      "MinDistMacro                    --> None\n",
      "ImprovementMacro                --> None\n",
      "OptimizationPrecisionLimitMacro --> 1e-20\n",
      "\n",
      "\n",
      "\n",
      "\n",
      "MACROIMAGES\n",
      "\n",
      "ra: [1.42122948e-25]\n",
      "dec: [1.76670472e-11]\n",
      "\n",
      "Time delays (seconds):  [0.]\n",
      "magnifications:  [2.6690265]\n",
      "Morse indices:  [0]\n",
      "Geometrical optics amplification factor: [1.63371555+0.j 1.63371555+0.j 1.63371555+0.j 1.63371555+0.j\n",
      " 1.63371555+0.j 1.63371555+0.j 1.63371555+0.j 1.63371555+0.j\n",
      " 1.63371555+0.j 1.63371555+0.j 1.63371555+0.j]\n",
      "time: 254 ms (started: 2022-11-10 00:40:30 +08:00)\n"
     ]
    }
   ],
   "source": [
    "# images vs SIE mass\n",
    "\n",
    "\n",
    "\n",
    "# coordinates, first define them in scaled units [x (radians) /thetaE_tot]\n",
    "y0,y1 = 0, 0.1\n",
    "\n",
    "# redshifts                                                                                                                  \n",
    "zS = 2.0\n",
    "zL = 0.5\n",
    "\n",
    "# masses \n",
    "mSIE = 100\n",
    "\n",
    "# convert to radians\n",
    "from lensinggw.utils.utils import param_processing\n",
    "                                                                                                                             \n",
    "thetaE_SIE  = param_processing(zL, zS, mSIE)    \n",
    "beta0,beta1 = y0*thetaE_SIE, y1*thetaE_SIE                                                 \n",
    "                                                                                              \n",
    "\n",
    "# lens model\n",
    "lens_model_list     = ['SIE']\n",
    "kwargs_SIE         = {\"center_x\":0.0, 'center_y':0.0, 'theta_E':thetaE_SIE, 'e1':-0.081, 'e2':0}\n",
    "kwargs_lens_list    = [kwargs_SIE]   \n",
    "\n",
    "# indicate the first lens as macromodel and solve with the two-step procedure\n",
    "from lensinggw.solver.images import microimages\n",
    "\n",
    "solver_kwargs = {'SearchWindowMacro': 4*thetaE_SIE,\n",
    "                 'OnlyMacro': True,\n",
    "                 'MacroIndex':[0],\n",
    "                \"Optimization\": True,\n",
    "                    \"PixelsMacro\": 10**3}   \n",
    "\n",
    "MacroImg_ra, MacroImg_dec, pixel_width  = microimages(source_pos_x    = beta0,\n",
    "                                                                       source_pos_y    = beta1,\n",
    "                                                                       lens_model_list = lens_model_list,\n",
    "                                                                       kwargs_lens     = kwargs_lens_list,\n",
    "                                                                       **solver_kwargs)                                                            \n",
    "                                                                       \n",
    "# time delays, magnifications, Morse indices and amplification factor\n",
    "from lensinggw.utils.utils import TimeDelay, magnifications, getMinMaxSaddle\n",
    "from lensinggw.amplification_factor.amplification_factor import geometricalOpticsMagnification\n",
    "\n",
    "tds = TimeDelay(MacroImg_ra, MacroImg_dec,\n",
    "                beta0, beta1,\n",
    "                zL, zS,\n",
    "                lens_model_list, kwargs_lens_list)                \n",
    "mus = magnifications(MacroImg_ra, MacroImg_dec, lens_model_list, kwargs_lens_list)\n",
    "ns  = getMinMaxSaddle(MacroImg_ra, MacroImg_dec, lens_model_list, kwargs_lens_list) \n",
    "                \n",
    "print('Time delays (seconds): ', tds)\n",
    "print('magnifications: ',  mus)\n",
    "print('Morse indices: ',ns)\n",
    "\n",
    "dummy_frequencies = np.linspace(0,10,11)\n",
    "F = geometricalOpticsMagnification(dummy_frequencies,\n",
    "                                   MacroImg_ra,MacroImg_dec,\n",
    "                                   beta0,beta1,\n",
    "                                   zL,zS,\n",
    "                                   lens_model_list,\n",
    "                                   kwargs_lens_list)\n",
    "print('Geometrical optics amplification factor:', F)\n",
    "    "
   ]
  },
  {
   "cell_type": "code",
   "execution_count": null,
   "id": "9e5ad14a-e515-42b1-b6fb-9afdc6ea0aa2",
   "metadata": {},
   "outputs": [],
   "source": []
  }
 ],
 "metadata": {
  "kernelspec": {
   "display_name": "Python 3 (ipykernel)",
   "language": "python",
   "name": "python3"
  },
  "language_info": {
   "codemirror_mode": {
    "name": "ipython",
    "version": 3
   },
   "file_extension": ".py",
   "mimetype": "text/x-python",
   "name": "python",
   "nbconvert_exporter": "python",
   "pygments_lexer": "ipython3",
   "version": "3.9.13"
  }
 },
 "nbformat": 4,
 "nbformat_minor": 5
}
