{
 "cells": [
  {
   "cell_type": "markdown",
   "id": "f4a01121-ba2f-4684-8925-544508e772ed",
   "metadata": {
    "jp-MarkdownHeadingCollapsed": true,
    "tags": []
   },
   "source": [
    "## Set-up"
   ]
  },
  {
   "cell_type": "code",
   "execution_count": 1,
   "id": "23b7dfce-faf6-44b7-b7b8-5ce67dad82b3",
   "metadata": {
    "execution": {
     "iopub.execute_input": "2022-12-04T09:56:53.871024Z",
     "iopub.status.busy": "2022-12-04T09:56:53.870662Z",
     "iopub.status.idle": "2022-12-04T09:56:53.889042Z",
     "shell.execute_reply": "2022-12-04T09:56:53.888269Z",
     "shell.execute_reply.started": "2022-12-04T09:56:53.870947Z"
    },
    "tags": []
   },
   "outputs": [
    {
     "name": "stdout",
     "output_type": "stream",
     "text": [
      "time: 393 µs (started: 2022-12-04 17:56:53 +08:00)\n"
     ]
    }
   ],
   "source": [
    "try:\n",
    "    %load_ext autotime\n",
    "except:\n",
    "    !pip install ipython-autotime\n",
    "    %load_ext autotime"
   ]
  },
  {
   "cell_type": "code",
   "execution_count": 2,
   "id": "7432fdf4-43e0-4020-8aca-6289155f884f",
   "metadata": {
    "execution": {
     "iopub.execute_input": "2022-12-04T09:56:53.993834Z",
     "iopub.status.busy": "2022-12-04T09:56:53.993342Z",
     "iopub.status.idle": "2022-12-04T09:56:54.130465Z",
     "shell.execute_reply": "2022-12-04T09:56:54.129011Z",
     "shell.execute_reply.started": "2022-12-04T09:56:53.993787Z"
    },
    "tags": []
   },
   "outputs": [
    {
     "name": "stdout",
     "output_type": "stream",
     "text": [
      "Python 3.9.13\n",
      "time: 131 ms (started: 2022-12-04 17:56:53 +08:00)\n"
     ]
    }
   ],
   "source": [
    "# check python version\n",
    "# lensinggw package requires python 3.8+\n",
    "\n",
    "! python --version"
   ]
  },
  {
   "cell_type": "code",
   "execution_count": 3,
   "id": "331a5f37-0ccf-4a6d-997f-bcc3a1896eda",
   "metadata": {
    "execution": {
     "iopub.execute_input": "2022-12-04T09:56:54.133834Z",
     "iopub.status.busy": "2022-12-04T09:56:54.133476Z",
     "iopub.status.idle": "2022-12-04T09:56:54.138096Z",
     "shell.execute_reply": "2022-12-04T09:56:54.137343Z",
     "shell.execute_reply.started": "2022-12-04T09:56:54.133794Z"
    },
    "tags": []
   },
   "outputs": [
    {
     "name": "stdout",
     "output_type": "stream",
     "text": [
      "time: 438 µs (started: 2022-12-04 17:56:54 +08:00)\n"
     ]
    }
   ],
   "source": [
    "# lenstronomy github\n",
    "# https://github.com/gipagano/lenstronomy.git\n",
    "\n",
    "# lensinggw gitlab\n",
    "# https://gitlab.com/gpagano/lensinggw.git"
   ]
  },
  {
   "cell_type": "code",
   "execution_count": 4,
   "id": "166d1b88-2fda-4337-966b-f81b0ae5b325",
   "metadata": {
    "execution": {
     "iopub.execute_input": "2022-12-04T09:56:54.258835Z",
     "iopub.status.busy": "2022-12-04T09:56:54.258537Z",
     "iopub.status.idle": "2022-12-04T09:56:55.711876Z",
     "shell.execute_reply": "2022-12-04T09:56:55.711628Z",
     "shell.execute_reply.started": "2022-12-04T09:56:54.258812Z"
    },
    "tags": []
   },
   "outputs": [
    {
     "name": "stdout",
     "output_type": "stream",
     "text": [
      "time: 1.45 s (started: 2022-12-04 17:56:54 +08:00)\n"
     ]
    }
   ],
   "source": [
    "# import libraries and packages\n",
    "\n",
    "import random\n",
    "import matplotlib.pyplot as plt\n",
    "import numpy as np\n",
    "import configparser\n",
    "import pandas as pd\n",
    "\n",
    "from lensinggw.utils.utils import param_processing"
   ]
  },
  {
   "cell_type": "code",
   "execution_count": 5,
   "id": "55aad6a8-b28c-474c-bdc3-6ce29d229a59",
   "metadata": {
    "execution": {
     "iopub.execute_input": "2022-12-04T09:56:57.139937Z",
     "iopub.status.busy": "2022-12-04T09:56:57.139402Z",
     "iopub.status.idle": "2022-12-04T09:56:57.575577Z",
     "shell.execute_reply": "2022-12-04T09:56:57.574090Z",
     "shell.execute_reply.started": "2022-12-04T09:56:57.139887Z"
    },
    "tags": []
   },
   "outputs": [
    {
     "name": "stdout",
     "output_type": "stream",
     "text": [
      "/Users/genebelinario/Documents/dnc_research/thesis/notebooks\n",
      "\u001b[34mLOSC_Event_tutorial-master\u001b[m\u001b[m lenstronomy_solver.ipynb\n",
      "gw_microlensing.ipynb      near_source.ipynb\n",
      "lensed_gw.ipynb            plots.ipynb\n",
      "lensed_unlensed_gw.ipynb   source_0.png\n",
      "\u001b[34mlensinggw\u001b[m\u001b[m                  source_1.png\n",
      "lensinggw_setup.ipynb      source_2.png\n",
      "\u001b[34mlenstronomy\u001b[m\u001b[m\n",
      "/Users/genebelinario/Documents/dnc_research/thesis/notebooks/lenstronomy\n",
      "AFFILIATEDPACKAGES.rst MANIFEST.in            setup.cfg\n",
      "AUTHORS.rst            Makefile               setup.py\n",
      "CONTRIBUTING.rst       PUBLISHED.rst          \u001b[34mtest\u001b[m\u001b[m\n",
      "Gemfile                README.rst             test_helper.rb\n",
      "HISTORY.rst            \u001b[34mdocs\u001b[m\u001b[m                   tox.ini\n",
      "LICENSE                \u001b[34mlenstronomy\u001b[m\u001b[m\n",
      "MAILINGLIST.rst        requirements.txt\n",
      "/Users/genebelinario/Documents/dnc_research/thesis/notebooks/lensinggw\n",
      "LICENSE            \u001b[34mbuild\u001b[m\u001b[m              \u001b[34mlensinggw\u001b[m\u001b[m          setup.py\n",
      "MANIFEST.in        \u001b[34mdist\u001b[m\u001b[m               \u001b[34mlensinggw.egg-info\u001b[m\u001b[m\n",
      "README.rst         \u001b[34mdocs\u001b[m\u001b[m               requirements.txt\n",
      "time: 418 ms (started: 2022-12-04 17:56:57 +08:00)\n"
     ]
    }
   ],
   "source": [
    "# cd to lenstronomy location\n",
    "%cd /Users/genebelinario/Documents/dnc_research/thesis/notebooks\n",
    "!ls\n",
    "\n",
    "# install lenstronomy\n",
    "#!git clone https://github.com/gipagano/lenstronomy.git\n",
    "%cd /Users/genebelinario/Documents/dnc_research/thesis/notebooks/lenstronomy\n",
    "!ls\n",
    "\n",
    "# cd back to notebook\n",
    "%cd /Users/genebelinario/Documents/dnc_research/thesis/notebooks/lensinggw\n",
    "!ls"
   ]
  },
  {
   "cell_type": "markdown",
   "id": "3bb0cb31-c1a3-4e77-9bcc-dd88e019743c",
   "metadata": {
    "jp-MarkdownHeadingCollapsed": true,
    "tags": []
   },
   "source": [
    "## Macroimages Input Parameters"
   ]
  },
  {
   "cell_type": "code",
   "execution_count": 10,
   "id": "bc452c4a-22f7-4ef4-9dba-13dbc08ecad5",
   "metadata": {
    "execution": {
     "iopub.execute_input": "2022-12-04T09:58:27.011366Z",
     "iopub.status.busy": "2022-12-04T09:58:27.010855Z",
     "iopub.status.idle": "2022-12-04T09:58:27.037849Z",
     "shell.execute_reply": "2022-12-04T09:58:27.037391Z",
     "shell.execute_reply.started": "2022-12-04T09:58:27.011319Z"
    },
    "tags": []
   },
   "outputs": [
    {
     "data": {
      "text/html": [
       "<div>\n",
       "<style scoped>\n",
       "    .dataframe tbody tr th:only-of-type {\n",
       "        vertical-align: middle;\n",
       "    }\n",
       "\n",
       "    .dataframe tbody tr th {\n",
       "        vertical-align: top;\n",
       "    }\n",
       "\n",
       "    .dataframe thead th {\n",
       "        text-align: right;\n",
       "    }\n",
       "</style>\n",
       "<table border=\"1\" class=\"dataframe\">\n",
       "  <thead>\n",
       "    <tr style=\"text-align: right;\">\n",
       "      <th></th>\n",
       "      <th>lens_mass</th>\n",
       "      <th>zS</th>\n",
       "      <th>zL</th>\n",
       "      <th>source_ra</th>\n",
       "      <th>source_dec</th>\n",
       "      <th>lens_ra</th>\n",
       "      <th>lens_dec</th>\n",
       "      <th>thetaE</th>\n",
       "    </tr>\n",
       "  </thead>\n",
       "  <tbody>\n",
       "    <tr>\n",
       "      <th>0</th>\n",
       "      <td>1.000000e+06</td>\n",
       "      <td>2.0</td>\n",
       "      <td>0.5</td>\n",
       "      <td>0</td>\n",
       "      <td>0.5</td>\n",
       "      <td>0</td>\n",
       "      <td>0</td>\n",
       "      <td>9.808815e-09</td>\n",
       "    </tr>\n",
       "    <tr>\n",
       "      <th>1</th>\n",
       "      <td>1.000000e+13</td>\n",
       "      <td>2.0</td>\n",
       "      <td>0.5</td>\n",
       "      <td>0</td>\n",
       "      <td>0.5</td>\n",
       "      <td>0</td>\n",
       "      <td>0</td>\n",
       "      <td>3.101819e-05</td>\n",
       "    </tr>\n",
       "  </tbody>\n",
       "</table>\n",
       "</div>"
      ],
      "text/plain": [
       "      lens_mass   zS   zL  source_ra  source_dec  lens_ra  lens_dec  \\\n",
       "0  1.000000e+06  2.0  0.5          0         0.5        0         0   \n",
       "1  1.000000e+13  2.0  0.5          0         0.5        0         0   \n",
       "\n",
       "         thetaE  \n",
       "0  9.808815e-09  \n",
       "1  3.101819e-05  "
      ]
     },
     "metadata": {},
     "output_type": "display_data"
    },
    {
     "name": "stdout",
     "output_type": "stream",
     "text": [
      "time: 17.4 ms (started: 2022-12-04 17:58:27 +08:00)\n"
     ]
    }
   ],
   "source": [
    "# input parameters\n",
    "lens_mass = [float(\"{:e}\".format(10**n)) for n in [6,13]]     # galaxy mass range 10**7 to 10**12 solar masses\n",
    "lens_mass.sort()\n",
    "\n",
    "zS = [2.0]*len(lens_mass)\n",
    "zL = [0.5]*len(lens_mass)\n",
    "source_ra = [0]*len(lens_mass)\n",
    "source_dec = [0.5]*len(np.unique(lens_mass))\n",
    "lens_ra = [0]*len(lens_mass)\n",
    "lens_dec = [0]*len(lens_mass)\n",
    "thetaE = [param_processing(zL[x], zS[x], lens_mass[x]) for x in np.arange(0,len(lens_mass))]\n",
    "\n",
    "input_macro_dict={\"lens_mass\":lens_mass,\n",
    "       \"zS\": zS,\n",
    "       'zL': zL,\n",
    "       'source_ra':source_ra,\n",
    "       'source_dec': source_dec,\n",
    "       'lens_ra': lens_ra,\n",
    "       'lens_dec': lens_dec,\n",
    "       'thetaE': thetaE}\n",
    "\n",
    "input_macro = pd.DataFrame(data=input_macro_dict)\n",
    "\n",
    "pd.set_option('display.max_columns', None)\n",
    "display(input_params)\n",
    "\n",
    "input_macro.to_csv(\"/Users/genebelinario/Documents/dnc_research/thesis/master_files/input_macro.csv\")"
   ]
  },
  {
   "cell_type": "code",
   "execution_count": 11,
   "id": "066d06bf-9b33-4807-a08a-b60477dff680",
   "metadata": {
    "execution": {
     "iopub.execute_input": "2022-12-04T09:58:50.699757Z",
     "iopub.status.busy": "2022-12-04T09:58:50.699459Z",
     "iopub.status.idle": "2022-12-04T09:58:50.733555Z",
     "shell.execute_reply": "2022-12-04T09:58:50.733108Z",
     "shell.execute_reply.started": "2022-12-04T09:58:50.699733Z"
    },
    "tags": []
   },
   "outputs": [
    {
     "data": {
      "text/html": [
       "<div>\n",
       "<style scoped>\n",
       "    .dataframe tbody tr th:only-of-type {\n",
       "        vertical-align: middle;\n",
       "    }\n",
       "\n",
       "    .dataframe tbody tr th {\n",
       "        vertical-align: top;\n",
       "    }\n",
       "\n",
       "    .dataframe thead th {\n",
       "        text-align: right;\n",
       "    }\n",
       "</style>\n",
       "<table border=\"1\" class=\"dataframe\">\n",
       "  <thead>\n",
       "    <tr style=\"text-align: right;\">\n",
       "      <th></th>\n",
       "      <th>lens_mass</th>\n",
       "      <th>zS</th>\n",
       "      <th>zL</th>\n",
       "      <th>source_ra</th>\n",
       "      <th>source_dec</th>\n",
       "      <th>lens_ra</th>\n",
       "      <th>lens_dec</th>\n",
       "      <th>thetaE</th>\n",
       "      <th>macro0_ra</th>\n",
       "      <th>macro1_ra</th>\n",
       "      <th>macro2_ra</th>\n",
       "      <th>macro3_ra</th>\n",
       "      <th>macro0_dec</th>\n",
       "      <th>macro1_dec</th>\n",
       "      <th>macro2_dec</th>\n",
       "      <th>macro3_dec</th>\n",
       "      <th>macro_td0</th>\n",
       "      <th>macro_td1</th>\n",
       "      <th>macro_td2</th>\n",
       "      <th>macro_td3</th>\n",
       "      <th>macro_mag0</th>\n",
       "      <th>macro_mag1</th>\n",
       "      <th>macro_mag2</th>\n",
       "      <th>macro_mag3</th>\n",
       "      <th>macro_morse0</th>\n",
       "      <th>macro_morse1</th>\n",
       "      <th>macro_morse2</th>\n",
       "      <th>macro_morse3</th>\n",
       "    </tr>\n",
       "  </thead>\n",
       "  <tbody>\n",
       "    <tr>\n",
       "      <th>0</th>\n",
       "      <td>1.000000e+06</td>\n",
       "      <td>2.0</td>\n",
       "      <td>0.5</td>\n",
       "      <td>0</td>\n",
       "      <td>0.5</td>\n",
       "      <td>0</td>\n",
       "      <td>0</td>\n",
       "      <td>9.808815e-09</td>\n",
       "      <td></td>\n",
       "      <td></td>\n",
       "      <td></td>\n",
       "      <td></td>\n",
       "      <td></td>\n",
       "      <td></td>\n",
       "      <td></td>\n",
       "      <td></td>\n",
       "      <td></td>\n",
       "      <td></td>\n",
       "      <td></td>\n",
       "      <td></td>\n",
       "      <td></td>\n",
       "      <td></td>\n",
       "      <td></td>\n",
       "      <td></td>\n",
       "      <td></td>\n",
       "      <td></td>\n",
       "      <td></td>\n",
       "      <td></td>\n",
       "    </tr>\n",
       "    <tr>\n",
       "      <th>1</th>\n",
       "      <td>1.000000e+13</td>\n",
       "      <td>2.0</td>\n",
       "      <td>0.5</td>\n",
       "      <td>0</td>\n",
       "      <td>0.5</td>\n",
       "      <td>0</td>\n",
       "      <td>0</td>\n",
       "      <td>3.101819e-05</td>\n",
       "      <td></td>\n",
       "      <td></td>\n",
       "      <td></td>\n",
       "      <td></td>\n",
       "      <td></td>\n",
       "      <td></td>\n",
       "      <td></td>\n",
       "      <td></td>\n",
       "      <td></td>\n",
       "      <td></td>\n",
       "      <td></td>\n",
       "      <td></td>\n",
       "      <td></td>\n",
       "      <td></td>\n",
       "      <td></td>\n",
       "      <td></td>\n",
       "      <td></td>\n",
       "      <td></td>\n",
       "      <td></td>\n",
       "      <td></td>\n",
       "    </tr>\n",
       "  </tbody>\n",
       "</table>\n",
       "</div>"
      ],
      "text/plain": [
       "      lens_mass   zS   zL  source_ra  source_dec  lens_ra  lens_dec  \\\n",
       "0  1.000000e+06  2.0  0.5          0         0.5        0         0   \n",
       "1  1.000000e+13  2.0  0.5          0         0.5        0         0   \n",
       "\n",
       "         thetaE macro0_ra macro1_ra macro2_ra macro3_ra macro0_dec macro1_dec  \\\n",
       "0  9.808815e-09                                                                 \n",
       "1  3.101819e-05                                                                 \n",
       "\n",
       "  macro2_dec macro3_dec macro_td0 macro_td1 macro_td2 macro_td3 macro_mag0  \\\n",
       "0                                                                            \n",
       "1                                                                            \n",
       "\n",
       "  macro_mag1 macro_mag2 macro_mag3 macro_morse0 macro_morse1 macro_morse2  \\\n",
       "0                                                                           \n",
       "1                                                                           \n",
       "\n",
       "  macro_morse3  \n",
       "0               \n",
       "1               "
      ]
     },
     "metadata": {},
     "output_type": "display_data"
    },
    {
     "name": "stdout",
     "output_type": "stream",
     "text": [
      "time: 27.1 ms (started: 2022-12-04 17:58:50 +08:00)\n"
     ]
    }
   ],
   "source": [
    "# output for lensing of gravitational waves\n",
    "output_macro = pd.read_csv(\"/Users/genebelinario/Documents/dnc_research/thesis/master_files/input_macro.csv\", index_col=[0])\n",
    "\n",
    "for n in np.arange(0,4):\n",
    "    output_macro['macro'+str(n)+'_ra'] = ''\n",
    "\n",
    "for n in np.arange(0,4):\n",
    "    output_macro['macro'+str(n)+'_dec'] = ''\n",
    "\n",
    "for n in np.arange(0,4):\n",
    "    output_macro['macro_td'+str(n)] = ''\n",
    "\n",
    "for n in np.arange(0,4):\n",
    "    output_macro['macro_mag'+str(n)] = ''\n",
    "\n",
    "for n in np.arange(0,4):\n",
    "    output_macro['macro_morse'+str(n)] = ''\n",
    "\n",
    "pd.set_option('display.max_columns', None)\n",
    "display(output_macro)"
   ]
  },
  {
   "cell_type": "markdown",
   "id": "d2062d82-8031-4e63-acf1-3e14a056fb51",
   "metadata": {
    "tags": []
   },
   "source": [
    "## Macroimage Positions"
   ]
  },
  {
   "cell_type": "code",
   "execution_count": 14,
   "id": "93ef2741-fede-4968-951d-e8afd0cdfbdc",
   "metadata": {
    "execution": {
     "iopub.execute_input": "2022-12-04T09:59:24.243361Z",
     "iopub.status.busy": "2022-12-04T09:59:24.243109Z",
     "iopub.status.idle": "2022-12-04T09:59:24.256152Z",
     "shell.execute_reply": "2022-12-04T09:59:24.255325Z",
     "shell.execute_reply.started": "2022-12-04T09:59:24.243333Z"
    },
    "tags": []
   },
   "outputs": [
    {
     "data": {
      "text/html": [
       "<div>\n",
       "<style scoped>\n",
       "    .dataframe tbody tr th:only-of-type {\n",
       "        vertical-align: middle;\n",
       "    }\n",
       "\n",
       "    .dataframe tbody tr th {\n",
       "        vertical-align: top;\n",
       "    }\n",
       "\n",
       "    .dataframe thead th {\n",
       "        text-align: right;\n",
       "    }\n",
       "</style>\n",
       "<table border=\"1\" class=\"dataframe\">\n",
       "  <thead>\n",
       "    <tr style=\"text-align: right;\">\n",
       "      <th></th>\n",
       "      <th>lens_mass</th>\n",
       "      <th>zS</th>\n",
       "      <th>zL</th>\n",
       "      <th>source_ra</th>\n",
       "      <th>source_dec</th>\n",
       "      <th>lens_ra</th>\n",
       "      <th>lens_dec</th>\n",
       "      <th>thetaE</th>\n",
       "    </tr>\n",
       "  </thead>\n",
       "  <tbody>\n",
       "    <tr>\n",
       "      <th>0</th>\n",
       "      <td>1.000000e+06</td>\n",
       "      <td>2.0</td>\n",
       "      <td>0.5</td>\n",
       "      <td>0</td>\n",
       "      <td>0.5</td>\n",
       "      <td>0</td>\n",
       "      <td>0</td>\n",
       "      <td>9.808815e-09</td>\n",
       "    </tr>\n",
       "    <tr>\n",
       "      <th>1</th>\n",
       "      <td>1.000000e+13</td>\n",
       "      <td>2.0</td>\n",
       "      <td>0.5</td>\n",
       "      <td>0</td>\n",
       "      <td>0.5</td>\n",
       "      <td>0</td>\n",
       "      <td>0</td>\n",
       "      <td>3.101819e-05</td>\n",
       "    </tr>\n",
       "  </tbody>\n",
       "</table>\n",
       "</div>"
      ],
      "text/plain": [
       "      lens_mass   zS   zL  source_ra  source_dec  lens_ra  lens_dec  \\\n",
       "0  1.000000e+06  2.0  0.5          0         0.5        0         0   \n",
       "1  1.000000e+13  2.0  0.5          0         0.5        0         0   \n",
       "\n",
       "         thetaE  \n",
       "0  9.808815e-09  \n",
       "1  3.101819e-05  "
      ]
     },
     "metadata": {},
     "output_type": "display_data"
    },
    {
     "name": "stdout",
     "output_type": "stream",
     "text": [
      "time: 9.56 ms (started: 2022-12-04 17:59:24 +08:00)\n"
     ]
    }
   ],
   "source": [
    "input_macro = pd.read_csv(\"/Users/genebelinario/Documents/dnc_research/thesis/master_files/input_macro.csv\", index_col=[0])\n",
    "\n",
    "display(input_macro)"
   ]
  },
  {
   "cell_type": "code",
   "execution_count": 15,
   "id": "5b93a027-46cf-4141-93d9-b4071bb132a0",
   "metadata": {
    "execution": {
     "iopub.execute_input": "2022-12-04T10:10:04.114266Z",
     "iopub.status.busy": "2022-12-04T10:10:04.113272Z",
     "iopub.status.idle": "2022-12-04T10:10:04.659401Z",
     "shell.execute_reply": "2022-12-04T10:10:04.659134Z",
     "shell.execute_reply.started": "2022-12-04T10:10:04.114185Z"
    },
    "tags": []
   },
   "outputs": [
    {
     "name": "stdout",
     "output_type": "stream",
     "text": [
      "\n",
      "---- Will perform only the macromodel analysis ----\n",
      "\n",
      "---- Solver settings ----\n",
      "\n",
      "The macromodel analysis will be performed with the following settings:\n",
      "\n",
      "OnlyMacro                       --> True\n",
      "Scaled                          --> False\n",
      "SearchWindowMacro               --> 3.923525804117745e-08\n",
      "PixelsMacro                     --> 1000\n",
      "OverlapDistMacro                --> 1e-15\n",
      "NearSource                      --> False\n",
      "Optimization                    --> True\n",
      "Verbose                         --> False\n",
      "OptimizationWindowMacro         --> 2\n",
      "OptimizationPixelsMacro         --> 30\n",
      "MinDistMacro                    --> None\n",
      "ImprovementMacro                --> None\n",
      "OptimizationPrecisionLimitMacro --> 1e-20\n",
      "\n",
      "\n",
      "\n",
      "\n",
      "MACROIMAGES\n",
      "\n",
      "ra: [ 7.64953018e-21 -4.96308526e-24 -4.96308526e-24]\n",
      "dec: [ 1.43606231e-08 -4.39823477e-09 -1.56357004e-10]\n",
      "\n",
      "Time delays (seconds):  [ 0.         28.34730176 30.476578  ]\n",
      "magnifications:  [ 3.80591423e+00 -7.70297588e-01  1.19870864e-03]\n",
      "Morse indices:  [0, 0.5, 1]\n",
      "Geometrical optics amplification factor: [1.91625288-0.87766599j 2.7038136 +0.49869093j 1.09270588+0.30939887j\n",
      " 2.21060524-0.86221256j 2.48488802+0.69268149j 1.10202544+0.05107021j\n",
      " 2.37000553-0.73201117j 2.33682773+0.76704375j 1.07388488-0.12388289j\n",
      " 2.58270582-0.65138339j 2.09553184+0.89953545j]\n",
      "\n",
      "---- Will perform only the macromodel analysis ----\n",
      "\n",
      "---- Solver settings ----\n",
      "\n",
      "The macromodel analysis will be performed with the following settings:\n",
      "\n",
      "OnlyMacro                       --> True\n",
      "Scaled                          --> False\n",
      "SearchWindowMacro               --> 0.00012407277999455722\n",
      "PixelsMacro                     --> 1000\n",
      "OverlapDistMacro                --> 1e-15\n",
      "NearSource                      --> False\n",
      "Optimization                    --> True\n",
      "Verbose                         --> False\n",
      "OptimizationWindowMacro         --> 2\n",
      "OptimizationPixelsMacro         --> 30\n",
      "MinDistMacro                    --> None\n",
      "ImprovementMacro                --> None\n",
      "OptimizationPrecisionLimitMacro --> 1e-20\n",
      "\n",
      "\n",
      "\n",
      "\n",
      "MACROIMAGES\n",
      "\n",
      "ra: [ 6.75071832e-21 -7.59336052e-21]\n",
      "dec: [-1.46105817e-05  4.56289219e-05]\n",
      "\n",
      "Time delays (seconds):  [2.86969691e+08 0.00000000e+00]\n",
      "magnifications:  [-0.76776021  3.80629195]\n",
      "Morse indices:  [0.5, 0]\n",
      "Geometrical optics amplification factor: [1.95097205-0.87621927j 2.72647809+0.407861j   1.22900961+0.49651831j\n",
      " 1.84758205-0.87009811j 2.76918647+0.31350499j 1.2926403 +0.57823828j\n",
      " 1.74563713-0.85182027j 2.80046259+0.21476974j 1.3654691 +0.6518792j\n",
      " 1.64655871-0.82164027j 2.81987006+0.11303298j]\n",
      "time: 531 ms (started: 2022-12-04 18:10:04 +08:00)\n"
     ]
    }
   ],
   "source": [
    "# load input parameters\n",
    "input_macro = pd.read_csv(\"/Users/genebelinario/Documents/dnc_research/thesis/master_files/input_macro.csv\", index_col=[0])\n",
    "\n",
    "# images vs SIE mass\n",
    "for n in np.arange(0, len(input_macro.index)):\n",
    "\n",
    "    # coordinates, first define them in scaled units [x (radians) /thetaE_tot]\n",
    "    y0,y1 = input_macro['source_ra'][n], input_params['source_dec'][n]\n",
    "\n",
    "    # redshifts                                                                                                                  \n",
    "    zS = input_macro[\"zS\"][n]\n",
    "    zL = input_macro[\"zL\"][n]\n",
    "\n",
    "    # masses \n",
    "    mSIE = input_macro['lens_mass'][n]\n",
    "    \n",
    "    # convert to radians\n",
    "    from lensinggw.utils.utils import param_processing\n",
    "                                                                                                                             \n",
    "    thetaE_SIE  = param_processing(zL, zS, mSIE)    \n",
    "    beta0,beta1 = y0*thetaE_SIE, y1*thetaE_SIE                                                 \n",
    "                                                                                              \n",
    "\n",
    "    # lens model\n",
    "    lens_model_list     = ['SIE']\n",
    "    kwargs_SIE         = {\"center_x\":0.0, 'center_y':0.0, 'theta_E':thetaE_SIE, 'e1':-0.081, 'e2':0}\n",
    "    kwargs_lens_list    = [kwargs_SIE]   \n",
    "\n",
    "    # indicate the first lens as macromodel and solve with the two-step procedure\n",
    "    from lensinggw.solver.images import microimages\n",
    "\n",
    "    solver_kwargs = {'SearchWindowMacro': 4*thetaE_SIE,\n",
    "                 'OnlyMacro': True,\n",
    "                 'MacroIndex':[0],\n",
    "                \"Optimization\": True,\n",
    "                    \"PixelsMacro\": 10**3}   \n",
    "\n",
    "    MacroImg_ra, MacroImg_dec, pixel_width  = microimages(source_pos_x    = beta0,\n",
    "                                                                       source_pos_y    = beta1,\n",
    "                                                                       lens_model_list = lens_model_list,\n",
    "                                                                       kwargs_lens     = kwargs_lens_list,\n",
    "                                                                       **solver_kwargs)                                                            \n",
    "                                                                       \n",
    "    # time delays, magnifications, Morse indices and amplification factor\n",
    "    from lensinggw.utils.utils import TimeDelay, magnifications, getMinMaxSaddle\n",
    "    from lensinggw.amplification_factor.amplification_factor import geometricalOpticsMagnification\n",
    "\n",
    "    tds = TimeDelay(MacroImg_ra, MacroImg_dec,\n",
    "                beta0, beta1,\n",
    "                zL, zS,\n",
    "                lens_model_list, kwargs_lens_list)                \n",
    "    mus = magnifications(MacroImg_ra, MacroImg_dec, lens_model_list, kwargs_lens_list)\n",
    "    ns  = getMinMaxSaddle(MacroImg_ra, MacroImg_dec, lens_model_list, kwargs_lens_list) \n",
    "                \n",
    "    print('Time delays (seconds): ', tds)\n",
    "    print('magnifications: ',  mus)\n",
    "    print('Morse indices: ',ns)\n",
    "\n",
    "    dummy_frequencies = np.linspace(0,10,11)\n",
    "    F = geometricalOpticsMagnification(dummy_frequencies,\n",
    "                                   MacroImg_ra,MacroImg_dec,\n",
    "                                   beta0,beta1,\n",
    "                                   zL,zS,\n",
    "                                   lens_model_list,\n",
    "                                   kwargs_lens_list)\n",
    "    print('Geometrical optics amplification factor:', F)\n",
    "\n",
    "    for x in np.arange(0, len(MacroImg_ra)):\n",
    "        output_macro.at[n, 'macro'+str(x)+'_ra'] = \"{:e}\".format(MacroImg_ra[x])\n",
    "        output_macro.at[n, 'macro'+str(x)+'_dec'] = \"{:e}\".format(MacroImg_dec[x])\n",
    "        output_macro.at[n, 'macro_td'+str(x)] = tds[x]\n",
    "        output_macro.at[n, 'macro_mag'+str(x)] = mus[x]\n",
    "        output_macro.at[n, 'macro_morse'+str(x)] = ns[x]   "
   ]
  },
  {
   "cell_type": "code",
   "execution_count": 16,
   "id": "7195d3fa-44e2-4cd4-9f30-84e7978891d0",
   "metadata": {
    "execution": {
     "iopub.execute_input": "2022-12-04T10:10:12.446415Z",
     "iopub.status.busy": "2022-12-04T10:10:12.446024Z",
     "iopub.status.idle": "2022-12-04T10:10:12.472039Z",
     "shell.execute_reply": "2022-12-04T10:10:12.471510Z",
     "shell.execute_reply.started": "2022-12-04T10:10:12.446380Z"
    },
    "tags": []
   },
   "outputs": [
    {
     "data": {
      "text/html": [
       "<div>\n",
       "<style scoped>\n",
       "    .dataframe tbody tr th:only-of-type {\n",
       "        vertical-align: middle;\n",
       "    }\n",
       "\n",
       "    .dataframe tbody tr th {\n",
       "        vertical-align: top;\n",
       "    }\n",
       "\n",
       "    .dataframe thead th {\n",
       "        text-align: right;\n",
       "    }\n",
       "</style>\n",
       "<table border=\"1\" class=\"dataframe\">\n",
       "  <thead>\n",
       "    <tr style=\"text-align: right;\">\n",
       "      <th></th>\n",
       "      <th>lens_mass</th>\n",
       "      <th>zS</th>\n",
       "      <th>zL</th>\n",
       "      <th>source_ra</th>\n",
       "      <th>source_dec</th>\n",
       "      <th>lens_ra</th>\n",
       "      <th>lens_dec</th>\n",
       "      <th>thetaE</th>\n",
       "      <th>macro0_ra</th>\n",
       "      <th>macro1_ra</th>\n",
       "      <th>macro2_ra</th>\n",
       "      <th>macro3_ra</th>\n",
       "      <th>macro0_dec</th>\n",
       "      <th>macro1_dec</th>\n",
       "      <th>macro2_dec</th>\n",
       "      <th>macro3_dec</th>\n",
       "      <th>macro_td0</th>\n",
       "      <th>macro_td1</th>\n",
       "      <th>macro_td2</th>\n",
       "      <th>macro_td3</th>\n",
       "      <th>macro_mag0</th>\n",
       "      <th>macro_mag1</th>\n",
       "      <th>macro_mag2</th>\n",
       "      <th>macro_mag3</th>\n",
       "      <th>macro_morse0</th>\n",
       "      <th>macro_morse1</th>\n",
       "      <th>macro_morse2</th>\n",
       "      <th>macro_morse3</th>\n",
       "    </tr>\n",
       "  </thead>\n",
       "  <tbody>\n",
       "    <tr>\n",
       "      <th>0</th>\n",
       "      <td>1.000000e+06</td>\n",
       "      <td>2.0</td>\n",
       "      <td>0.5</td>\n",
       "      <td>0</td>\n",
       "      <td>0.5</td>\n",
       "      <td>0</td>\n",
       "      <td>0</td>\n",
       "      <td>9.808815e-09</td>\n",
       "      <td>7.649530e-21</td>\n",
       "      <td>-4.963085e-24</td>\n",
       "      <td>-4.963085e-24</td>\n",
       "      <td></td>\n",
       "      <td>1.436062e-08</td>\n",
       "      <td>-4.398235e-09</td>\n",
       "      <td>-1.563570e-10</td>\n",
       "      <td></td>\n",
       "      <td>0.0</td>\n",
       "      <td>28.347302</td>\n",
       "      <td>30.476578</td>\n",
       "      <td></td>\n",
       "      <td>3.805914</td>\n",
       "      <td>-0.770298</td>\n",
       "      <td>0.001199</td>\n",
       "      <td></td>\n",
       "      <td>0</td>\n",
       "      <td>0.5</td>\n",
       "      <td>1</td>\n",
       "      <td></td>\n",
       "    </tr>\n",
       "    <tr>\n",
       "      <th>1</th>\n",
       "      <td>1.000000e+13</td>\n",
       "      <td>2.0</td>\n",
       "      <td>0.5</td>\n",
       "      <td>0</td>\n",
       "      <td>0.5</td>\n",
       "      <td>0</td>\n",
       "      <td>0</td>\n",
       "      <td>3.101819e-05</td>\n",
       "      <td>6.750718e-21</td>\n",
       "      <td>-7.593361e-21</td>\n",
       "      <td></td>\n",
       "      <td></td>\n",
       "      <td>-1.461058e-05</td>\n",
       "      <td>4.562892e-05</td>\n",
       "      <td></td>\n",
       "      <td></td>\n",
       "      <td>286969691.327059</td>\n",
       "      <td>0.0</td>\n",
       "      <td></td>\n",
       "      <td></td>\n",
       "      <td>-0.76776</td>\n",
       "      <td>3.806292</td>\n",
       "      <td></td>\n",
       "      <td></td>\n",
       "      <td>0.5</td>\n",
       "      <td>0</td>\n",
       "      <td></td>\n",
       "      <td></td>\n",
       "    </tr>\n",
       "  </tbody>\n",
       "</table>\n",
       "</div>"
      ],
      "text/plain": [
       "      lens_mass   zS   zL  source_ra  source_dec  lens_ra  lens_dec  \\\n",
       "0  1.000000e+06  2.0  0.5          0         0.5        0         0   \n",
       "1  1.000000e+13  2.0  0.5          0         0.5        0         0   \n",
       "\n",
       "         thetaE     macro0_ra      macro1_ra      macro2_ra macro3_ra  \\\n",
       "0  9.808815e-09  7.649530e-21  -4.963085e-24  -4.963085e-24             \n",
       "1  3.101819e-05  6.750718e-21  -7.593361e-21                            \n",
       "\n",
       "      macro0_dec     macro1_dec     macro2_dec macro3_dec         macro_td0  \\\n",
       "0   1.436062e-08  -4.398235e-09  -1.563570e-10                          0.0   \n",
       "1  -1.461058e-05   4.562892e-05                            286969691.327059   \n",
       "\n",
       "   macro_td1  macro_td2 macro_td3 macro_mag0 macro_mag1 macro_mag2 macro_mag3  \\\n",
       "0  28.347302  30.476578             3.805914  -0.770298   0.001199              \n",
       "1        0.0                        -0.76776   3.806292                         \n",
       "\n",
       "  macro_morse0 macro_morse1 macro_morse2 macro_morse3  \n",
       "0            0          0.5            1               \n",
       "1          0.5            0                            "
      ]
     },
     "metadata": {},
     "output_type": "display_data"
    },
    {
     "name": "stdout",
     "output_type": "stream",
     "text": [
      "time: 22.7 ms (started: 2022-12-04 18:10:12 +08:00)\n"
     ]
    }
   ],
   "source": [
    "# check changes in output \n",
    "display(output_macro)\n",
    "\n",
    "output_macro.to_csv(\"/Users/genebelinario/Documents/dnc_research/thesis/master_files/output_macro.csv\")"
   ]
  },
  {
   "cell_type": "code",
   "execution_count": 31,
   "id": "4b8a85ce-5786-4da6-b472-e8601827d32e",
   "metadata": {
    "execution": {
     "iopub.execute_input": "2022-12-04T12:46:36.091379Z",
     "iopub.status.busy": "2022-12-04T12:46:36.091103Z",
     "iopub.status.idle": "2022-12-04T12:46:36.198211Z",
     "shell.execute_reply": "2022-12-04T12:46:36.197576Z",
     "shell.execute_reply.started": "2022-12-04T12:46:36.091355Z"
    },
    "tags": []
   },
   "outputs": [
    {
     "data": {
      "image/png": "[encoded data removed]",
      "text/plain": [
       "<Figure size 1000x500 with 2 Axes>"
      ]
     },
     "metadata": {},
     "output_type": "display_data"
    },
    {
     "name": "stdout",
     "output_type": "stream",
     "text": [
      "time: 100 ms (started: 2022-12-04 20:46:36 +08:00)\n"
     ]
    }
   ],
   "source": [
    "## sky plot\n",
    "\n",
    "# plot specification\n",
    "nr = 1\n",
    "nc = 2\n",
    "\n",
    "## parametrized curves\n",
    "\n",
    "epsilon = 0.15\n",
    "t = np.arange(0, 2*np.pi, 0.001)\n",
    "\n",
    "# inner caustics\n",
    "beta_1_in = (2*epsilon/np.sqrt(1-epsilon))*((np.cos(t))**3)\n",
    "beta_2_in = (2*epsilon/np.sqrt(1+epsilon))*((np.sin(t))**3)\n",
    "\n",
    "# outer caustics\n",
    "beta_1_out = ((1-epsilon)/np.sqrt(1-epsilon))*np.cos(t)\n",
    "beta_2_out = ((1+epsilon)/np.sqrt(1+epsilon))*np.sin(t)\n",
    "\n",
    "# critical curve\n",
    "rho = 1 + epsilon*np.cos(2*t)\n",
    "theta_1 = (1-epsilon)**(-1)*rho*np.cos(t)\n",
    "theta_2 = (1+epsilon)**(-1)*rho*np.sin(t)\n",
    "\n",
    "fig, axs = plt.subplots(nrows=nr, ncols=nc, sharey=True, sharex=True, figsize=(10,5))\n",
    "\n"
   ]
  }
 ],
 "metadata": {
  "kernelspec": {
   "display_name": "Python 3 (ipykernel)",
   "language": "python",
   "name": "python3"
  },
  "language_info": {
   "codemirror_mode": {
    "name": "ipython",
    "version": 3
   },
   "file_extension": ".py",
   "mimetype": "text/x-python",
   "name": "python",
   "nbconvert_exporter": "python",
   "pygments_lexer": "ipython3",
   "version": "3.9.13"
  }
 },
 "nbformat": 4,
 "nbformat_minor": 5
}
